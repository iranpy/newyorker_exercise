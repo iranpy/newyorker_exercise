{
 "cells": [
  {
   "cell_type": "code",
   "execution_count": null,
   "metadata": {},
   "outputs": [],
   "source": [
    "import pymc as pm\n",
    "import numpy as np\n",
    "import pandas as pd\n",
    "from scipy.optimize import linprog\n",
    "from matplotlib import pylab as plt\n"
   ]
  },
  {
   "cell_type": "code",
   "execution_count": null,
   "metadata": {},
   "outputs": [],
   "source": [
    "\n",
    "df = pd.DataFrame({'price':[100,90,70,60,40,20,10],'demand':[100,120,200,300,1200,2000,2800]}).astype(float)\n",
    "\n",
    "\n",
    "def price_demand_info(df):\n",
    "    return df['price'], df['demand'], df['price'].min(), df['price'].max(), df['demand'].min(), df['demand'].max()\n",
    "\n",
    "def simulator_distribution(price, demand, sample_num, summary=True):\n",
    "    with pm.Model() as model:  # model specifications in PyMC are wrapped in a with-statement\n",
    "        # Define priors\n",
    "        sigma = pm.HalfCauchy(\"sigma\", beta=1000)\n",
    "        intercept = pm.Normal(\"Intercept\", 0, sigma=2000)\n",
    "        slope = pm.Normal(\"slope\", 0, sigma=2000)\n",
    "        # Define likelihood\n",
    "        pm.Normal(\"y\", mu=intercept + slope * price, sigma=sigma, observed=demand)\n",
    "\n",
    "        # Inference!\n",
    "        # draw sample_num posterior samples using NUTS sampling\n",
    "        s = pm.sample(sample_num)\n",
    "\n",
    "        if summary:\n",
    "            pm.summary(s)\n",
    "            pm.plot_trace(s)\n",
    "\n",
    "    return s\n",
    "price, demand, price_min, price_max, demand_min, demand_max = price_demand_info(df)\n",
    "samples = simulator_distribution(price, demand, 1000)"
   ]
  },
  {
   "cell_type": "code",
   "execution_count": null,
   "metadata": {},
   "outputs": [],
   "source": [
    "def posterior_predict(samples):\n",
    "    p = np.linspace(price_min, price_max)\n",
    "    demand_price = samples.posterior[\"Intercept\"][0].data + samples.posterior[\"slope\"][0].data * np.array(p).reshape(-1,1)\n",
    "    # demand_price = np.exp(s.posterior['log_b'][0].data - s.posterior['c'][0].data* np.log(p).reshape(-1, 1))\n",
    "    fig = plt.figure(figsize=(10, 5))\n",
    "    plt.plot(p, demand_price, c = 'k', alpha = 0.1)\n",
    "    plt.plot(price, demand, 'ko', markeredgewidth=1.5, markerfacecolor='w', markersize=5)\n",
    "    plt.xlabel('Price')\n",
    "    plt.ylabel('Demands')\n",
    "    plt.show()\n",
    "    return demand_price\n",
    "demand_prices_posterior = posterior_predict(samples)\n",
    "\n"
   ]
  },
  {
   "cell_type": "code",
   "execution_count": null,
   "metadata": {},
   "outputs": [],
   "source": [
    "# Question 1-1: find out the optimal price that maximises revenue.\n",
    "#  Hint: our two different methods place the answer between 25 and 50. We are more interested\n",
    "# in your approach, methods and code than getting an exact answer for this part.\n"
   ]
  },
  {
   "cell_type": "code",
   "execution_count": null,
   "metadata": {},
   "outputs": [],
   "source": [
    "# finding optimal price by computing expectation of revenues(first method)\n",
    "\n",
    "def revenue_maximizing_price(demand_prices, sd):\n",
    "    p = np.linspace(price_min, price_max)\n",
    "    R = np.multiply((p.reshape(-1,1)),demand_prices)\n",
    "    plt.plot(p,R,c='k',alpha=0.1);\n",
    "    plt.plot(p,np.mean(R,1).T,c='C1',lw=2,label=\"$\\mathbb{E}[R|P]$\");\n",
    "    plt.fill_between(p,(np.mean(R,1)-np.std(R,sd)).T,(np.mean(R,1)+np.std(R,sd)).T,alpha=0.1,color='C1')\n",
    "    plt.plot(p,(np.mean(R,1)+np.std(R,sd)).T,c='C1',lw=1,label=\"$\\mathbb{E}[R|P]\\ \\pm$1 sd\");\n",
    "    plt.plot(p,(np.mean(R,1)-np.std(R,sd)).T,c='C1',lw=1);\n",
    "    pmax = p[np.argmax(np.mean(R,1))]\n",
    "    revenue_max = np.max(np.mean(R,1))\n",
    "    plt.vlines(pmax, demand_min, (demand_max*price_max)/3,colors='C0',linestyles='dashed',label=\"argmax$_P\\ \\mathbb{E}[R|P]$\")\n",
    "    plt.hlines(revenue_max, 0,price_max,colors='C0',linestyles='dashed')\n",
    "\n",
    "    plt.ylim(demand_min,(demand_max* price_max)/3);\n",
    "    plt.xlabel(\"Price $P$\")\n",
    "    plt.ylabel(\"Revenue $R$\")\n",
    "\n",
    "    plt.legend();\n",
    "    # print('price_max', pmax)\n",
    "    return pmax\n",
    "\n",
    "print('price_max_revenue', revenue_maximizing_price(demand_prices_posterior, sd=1))\n"
   ]
  },
  {
   "cell_type": "code",
   "execution_count": null,
   "metadata": {},
   "outputs": [],
   "source": [
    "# finding optimal price by using Linear Programming (second method)\n",
    "\n",
    "def optimal_price_probabilities(prices, demands, constraint):   \n",
    "    revenues = np.multiply(prices, demands)\n",
    "    \n",
    "    L = len(prices)\n",
    "    M = np.full([1, L], 1)\n",
    "    B = [[1]]\n",
    "    Df = [demands]\n",
    "\n",
    "    res = linprog(-np.array(revenues).flatten(), \n",
    "                  A_eq=M, \n",
    "                  b_eq=B, \n",
    "                  A_ub=Df, \n",
    "                  b_ub=np.array([constraint]), \n",
    "                  bounds=(0, None))\n",
    "\n",
    "    price_prob = np.array(res.x).reshape(1, L).flatten()\n",
    "    return price_prob, revenues\n",
    "\n",
    "\n",
    "p = np.linspace(price_min, price_max)\n",
    "out, rev = optimal_price_probabilities(p, demand_prices_posterior.T[0], price_max * demand_max)\n",
    "print('price_max_revenue', p[out.argmax()])\n"
   ]
  },
  {
   "cell_type": "code",
   "execution_count": null,
   "metadata": {},
   "outputs": [],
   "source": [
    "# Question 1-2: Knowing the demand (from the previous question) and the supplier price, and assuming\n",
    "# that the only costs we have are the cost of the goods we sell, please find the price that\n",
    "# maximizes our profits.\n"
   ]
  },
  {
   "cell_type": "code",
   "execution_count": null,
   "metadata": {},
   "outputs": [],
   "source": [
    "def profit_formula():\n",
    "    demand_prices = samples.posterior[\"Intercept\"][0].data + samples.posterior[\"slope\"][0].data * np.array(p).reshape(-1,1)[:,:500]\n",
    "\n",
    "    discount = demand_prices.copy()\n",
    "    discount[discount<=50] = 1\n",
    "    discount[(50<discount) & (discount<=100)] = 12\n",
    "    discount[(100<discount) & (discount<=200)] = 8\n",
    "    discount[200<discount] = 4\n",
    "\n",
    "    p_sum = p.reshape(-1,1) - discount\n",
    "    proft_price = np.multiply(p_sum, demand_prices)\n",
    "    return proft_price\n",
    "\n",
    "def profit_maximizing_price(demand_prices, sd):\n",
    "    PF = profit_formula()\n",
    "    plt.plot(p,PF,c='k',alpha=0.1);\n",
    "    plt.plot(p,np.mean(PF,1).T,c='C1',lw=2,label=\"$\\mathbb{E}[pf|P]$\");\n",
    "    plt.fill_between(p,(np.mean(PF,1)-np.std(PF,1)).T,(np.mean(PF,1)+np.std(PF,1)).T,alpha=0.1,color='C1')\n",
    "    plt.plot(p,(np.mean(PF,1)+np.std(PF,1)).T,c='C1',lw=1,label=\"$\\mathbb{E}[pf|P]\\ \\pm$1 sd\");\n",
    "    plt.plot(p,(np.mean(PF,1)-np.std(PF,1)).T,c='C1',lw=1);\n",
    "    pmax = p[np.argmax(np.mean(PF,1))]\n",
    "    profit_max = np.max(np.mean(PF,1))\n",
    "    plt.vlines(pmax,100,100000,colors='C0',linestyles='dashed',label=\"argmax$_P\\ \\mathbb{E}[pf|P]$\")\n",
    "    plt.hlines(profit_max, 0,100,colors='C0',linestyles='dashed')\n",
    "\n",
    "    plt.ylim(100,100000);\n",
    "    plt.xlabel(\"Price $P$\")\n",
    "    plt.ylabel(\"Profit PF\")\n",
    "\n",
    "    plt.legend();\n",
    "    # print('price_max', pmax)\n",
    "    return pmax\n",
    "\n",
    "print('price_max_profit', profit_maximizing_price(demand_prices_posterior, sd=1))\n"
   ]
  }
 ],
 "metadata": {
  "kernelspec": {
   "display_name": "Python 3 (ipykernel)",
   "language": "python",
   "name": "python3"
  },
  "language_info": {
   "codemirror_mode": {
    "name": "ipython",
    "version": 3
   },
   "file_extension": ".py",
   "mimetype": "text/x-python",
   "name": "python",
   "nbconvert_exporter": "python",
   "pygments_lexer": "ipython3",
   "version": "3.10.12"
  }
 },
 "nbformat": 4,
 "nbformat_minor": 4
}
